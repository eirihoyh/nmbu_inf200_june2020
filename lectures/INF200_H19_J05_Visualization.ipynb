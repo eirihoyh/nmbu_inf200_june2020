{
 "cells": [
  {
   "cell_type": "markdown",
   "metadata": {},
   "source": [
    "# INF200 Lecture No J05\n",
    "### Hans Ekkehard Plesser / NMBU\n",
    "### 8 June 2020\n",
    "\n",
    "## Today's topics\n",
    "- Some comments on code\n",
    "    - Class methods and static methods\n",
    "    - Deleting from lists\n",
    "- Visualization\n",
    "    - Plotting in PyCharm\n",
    "    - Plotting in Python scripts and the GIL\n",
    "    - Updating data in plots\n",
    "    - A time counter in a figure\n",
    "    - An island map\n",
    "    - Adding sliders and buttons\n",
    "    - RandVis: Making movies"
   ]
  },
  {
   "cell_type": "markdown",
   "metadata": {},
   "source": [
    "## Class methods and static methods\n",
    "\n",
    "- Use them sparingly!\n",
    "- You can use class methods to change properties belonging to a *class*.\n",
    "- You can use static methods for small helper functions.\n",
    "- If **all** arguments to a class or static method call begin with `self.`, you probably want a normal method instead."
   ]
  },
  {
   "cell_type": "markdown",
   "metadata": {},
   "source": [
    "## Deleting from lists\n",
    "\n",
    "- Removing elements from a list inside a loop over the list is dangerous\n",
    "- It can confuse the list iteration\n",
    "\n",
    "### A correct loop"
   ]
  },
  {
   "cell_type": "code",
   "execution_count": 4,
   "metadata": {},
   "outputs": [
    {
     "name": "stdout",
     "output_type": "stream",
     "text": [
      "Testing 0\n",
      "    divisible\n",
      "Testing 1\n",
      "Testing 2\n",
      "    divisible\n",
      "Testing 3\n",
      "    divisible\n",
      "Testing 4\n",
      "    divisible\n",
      "Testing 5\n",
      "Testing 6\n",
      "    divisible\n",
      "Testing 7\n",
      "Testing 8\n",
      "    divisible\n",
      "Testing 9\n",
      "    divisible\n"
     ]
    }
   ],
   "source": [
    "d = list(range(10))\n",
    "for n in d:\n",
    "    print('Testing', n)\n",
    "    if n % 2 == 0 or n % 3 == 0:\n",
    "        print('    divisible')"
   ]
  },
  {
   "cell_type": "markdown",
   "metadata": {},
   "source": [
    "### A confused loop"
   ]
  },
  {
   "cell_type": "code",
   "execution_count": 5,
   "metadata": {},
   "outputs": [
    {
     "name": "stdout",
     "output_type": "stream",
     "text": [
      "Testing 0\n",
      "Testing 2\n",
      "Testing 4\n",
      "Testing 6\n",
      "Testing 8\n",
      "[1, 3, 5, 7, 9]\n"
     ]
    }
   ],
   "source": [
    "d = list(range(10))\n",
    "for n in d:\n",
    "    print('Testing', n)\n",
    "    if n % 2 == 0 or n % 3 == 0:\n",
    "        d.remove(n)\n",
    "print(d)"
   ]
  },
  {
   "cell_type": "markdown",
   "metadata": {},
   "source": [
    "### A better solution: keep the good ones"
   ]
  },
  {
   "cell_type": "code",
   "execution_count": 6,
   "metadata": {},
   "outputs": [
    {
     "name": "stdout",
     "output_type": "stream",
     "text": [
      "[1, 5, 7]\n"
     ]
    }
   ],
   "source": [
    "d = list(range(10))\n",
    "d = [n for n in d if not (n % 2 == 0 or n % 3 == 0)]\n",
    "print(d)"
   ]
  },
  {
   "cell_type": "markdown",
   "metadata": {},
   "source": [
    "## Visualization\n",
    "\n",
    "### Plotting in PyCharm\n",
    "\n",
    "- Newer versions of PyCharm have a \"Scientific\" mode that supports plotting inside the PyCharm window\n",
    "- That did not work well for me\n",
    "- To turn it off, go to `Preferences > Tools > Python Scientific` and remove the check mark for `Show plots in tool window`"
   ]
  },
  {
   "cell_type": "markdown",
   "metadata": {},
   "source": [
    "### Plotting in Python scripts and the GIL\n",
    "\n",
    "- Parallel programs\n",
    "    - A program may run internally on multiple *threads*\n",
    "    - *Threads* are essentially multiple \"workers\" inside a single program working in parallel\n",
    "    - Problem: Two workers may change the same data at the same time: Chaos!\n",
    "    - Solution in CPython: The GIL\n",
    "- GIL: Global Interpreter Lock\n",
    "    - Present in CPython and several other Python implementations\n",
    "    - In each Python program, there is *exactly one* GIL (think of it as a baton,  \"stafettpinne\")\n",
    "    - Only the thread holding the GIL can work, all others are paused\n",
    "- Plotting and the GIL\n",
    "    - Usually, a figure window is managed by its own thread\n",
    "    - The thread can only draw to the screen while it has the GIL\n",
    "    - In a loop like (`plt` is `matplotlib.pyplot`)\n",
    "        ```\n",
    "        for alpha in range(100):\n",
    "            plt.plot(x, sin(alpha*x))\n",
    "        ```\n",
    "      the graphics thread may never get access to the GIL\n",
    "    - We must *pause* the main thread to ensure figure updating\n",
    "        ```\n",
    "        for alpha in range(100):\n",
    "            plt.plot(x, sin(alpha*x))\n",
    "            plt.pause(1e-6)\n",
    "        ```\n",
    "    - Pause duration is in seconds and can be very short\n",
    "- Other (more or less) relevant plot commands\n",
    "    - `plt.show()` hands over the GIL to the figure thread, the main thread is frozen until the figure window is closed; usually to be used as the last line in a script, so the user can look at the figure(s) generated\n",
    "    - `plt.ion()` (\"interactive on\") ensures that figures are updated automatically after each `plt` command (e.g. change in axis limits); meaningful when working interactively in an IPython shell\n",
    "    - `plt.ioff()` turns interactive mode off again\n",
    "    - `plt.draw()` updates figure; when not in interactive mode, the effect of many `plt` commands will become visible only upon `plt.draw()`\n",
    "- Detailed behavior can depend on operating system, Matplotlib backend and the exact way the Python script is run\n",
    "- References:\n",
    "    - [Python Wiki on GIL](https://wiki.python.org/moin/GlobalInterpreterLock)\n",
    "    - [Wikipedia article on GIL](https://en.wikipedia.org/wiki/Global_interpreter_lock)\n",
    "    - [David Beazly: Understanding GIL](http://www.dabeaz.com/python/UnderstandingGIL.pdf)"
   ]
  },
  {
   "cell_type": "markdown",
   "metadata": {},
   "source": [
    "### Updating data in plots\n",
    "\n",
    "- Example program: `plotting/plot_update.py`\n",
    "    - Creates list of random numbers, updates plot every time a new number is added\n",
    "    - Note the slow-down when running function `replot(1000)`\n",
    "    - Then run just function `update(1000)`: no slow-down\n",
    "- Plotting using `Figure` and `Axes` objects\n",
    "    - Plotting using `plt....()` functions is easy, but limits our possibilities\n",
    "    - By using the equivalent methods on `Figure`, `Axes`, `Line`, etc objects, we get much more control\n",
    "- Reason:\n",
    "    - `plt.plot()` adds new coordinate system (`Artist`) to figure each time it is called\n",
    "    - Matplotlib must render all `Artist`s each time the plot is updated\n",
    "- Solution:\n",
    "    - Call `plt.plot()` once, afterwards just update the values\n",
    "    \n",
    "        ```python       \n",
    "        def update(n_steps):\n",
    "            fig = plt.figure()\n",
    "            ax = fig.add_subplot(1, 1, 1)\n",
    "            ax.set_xlim(0, n_steps)\n",
    "            ax.set_ylim(0, 1)\n",
    "\n",
    "            line = ax.plot(np.arange(n_steps),\n",
    "                           np.full(n_steps, np.nan), 'b-')[0]\n",
    "\n",
    "            for n in range(n_steps):\n",
    "                ydata = line.get_ydata()\n",
    "                ydata[n] = np.random.random()\n",
    "                line.set_ydata(ydata)\n",
    "                plt.pause(1e-6)\n",
    "        ```\n",
    "\n",
    "    - Notes:\n",
    "        - We start with a line having as many data points as we want to have in the end\n",
    "        - We set all y-values to `np.nan` (not-a-number), a special value that is *not plotted*\n",
    "        - We must set x and y axis limits before we plot\n",
    "        - `line.set_ydata(ydata)` updates the data in the figure"
   ]
  },
  {
   "cell_type": "markdown",
   "metadata": {},
   "source": [
    "### A time counter in a figure\n",
    "\n",
    "- Example program: `plotting/time_counter.py`\n",
    "    - Creates several axes for plotting (not actually used in this example)\n",
    "    - Adds one axes at prescribed location, turns coordinate axis off\n",
    "    - Adds text\n",
    "    - Updates text in loop\n",
    "    \n",
    "        ```python\n",
    "        fig = plt.figure()\n",
    "\n",
    "        # normal subplots\n",
    "        ax1 = fig.add_subplot(2, 3, 1)\n",
    "        ax2 = fig.add_subplot(2, 3, 3)\n",
    "        ax3 = fig.add_subplot(2, 3, 4)\n",
    "        ax4 = fig.add_subplot(2, 3, 5)\n",
    "        ax5 = fig.add_subplot(2, 3, 6)\n",
    "\n",
    "        # axes for text\n",
    "        axt = fig.add_axes([0.4, 0.8, 0.2, 0.2])  # llx, lly, w, h\n",
    "        axt.axis('off')  # turn off coordinate system\n",
    "\n",
    "        template = 'Count: {:5}'\n",
    "        txt = axt.text(0.5, 0.5, template.format(0),\n",
    "                       horizontalalignment='center',\n",
    "                       verticalalignment='center',\n",
    "                       transform=axt.transAxes)  # relative coordinates\n",
    "\n",
    "        plt.pause(1e-6)  # pause required to make figure visible\n",
    "\n",
    "        input('Press ENTER to begin counting')\n",
    "\n",
    "        for k in range(40):\n",
    "            txt.set_text(template.format(k))\n",
    "            plt.pause(0.1)  # longer pause so we see timer running\n",
    "        ```\n",
    "        \n",
    "- For more fine-grained control of subplot placement, see Matplotlib's `GridSpec` (https://matplotlib.org/users/gridspec.html)\n",
    "- You can also place text directly into a figure; see Matplotlib Gallery for examples (https://matplotlib.org/gallery.html#text_labels_and_annotations)"
   ]
  },
  {
   "cell_type": "markdown",
   "metadata": {},
   "source": [
    "### An island map\n",
    "\n",
    "- Example program: `plotting/mapping.py`\n",
    "    - Starts from map given as multiline string\n",
    "    - Creates nested list, where each cell on island is represented by RGB color triplet\n",
    "        - Three nesting levels: row - column - color component\n",
    "    - Draws displays map using `imshow()`\n",
    "    - Manually adds legend by adding `Rectangle` patches"
   ]
  },
  {
   "cell_type": "markdown",
   "metadata": {},
   "source": [
    "### RandVis: Making movies\n",
    "\n",
    "#### Animations\n",
    "\n",
    "- Matplotlib has built-in animation support\n",
    "    - Useful for interactive animation on the screen\n",
    "    - Can also create movies\n",
    "    - See, e.g., the [Matplotlib Animation Tutorial](https://jakevdp.github.io/blog/2012/08/18/matplotlib-animation-tutorial/) by Jake Vanderplas\n",
    "- Do it yourself\n",
    "    - We can do the same thing by regularly updating figures, as shown above\n",
    "        \n",
    "#### Making movies from animations\n",
    "\n",
    "- Principles\n",
    "    - Movies are sequences of images\n",
    "    - Write all images for a movie to file first\n",
    "    - Use *external application* to combine images to movie\n",
    "- With `matplotlib.animation`\n",
    "    - Write movie by calling `save()` on `Animation` object\n",
    "    - Removes temporary files automatically when movie is ready\n",
    "    - To see available movie writers (movie file formats):\n",
    "    \n",
    "            import matplotlib.animation as animation\n",
    "            print animation.writers.list()\n",
    "            \n",
    "- Manually\n",
    "    - Write figures to file after updating with `savefig()`\n",
    "    - Usual image format: PNG (Portable network graphics)\n",
    "    - Enumerate files from 0, with leading digits:\n",
    "            \n",
    "            img_00000.png\n",
    "            img_00001.png\n",
    "            \n",
    "    - Use external application to combine figures to movie\n",
    "    \n",
    "#### External applications to convert images to movies\n",
    "\n",
    "##### Animated GIF\n",
    "- Very robust (plays anywhere), but file may be *very* large\n",
    "- Use [ImageMagick](http://www.imagemagick.org)\n",
    "    - For OSX and Win, you can download installation package\n",
    "    - For OSX, you can also install using `brew install ImageMagick`\n",
    "    - Package also supports all kinds of image file format transformations and image manipulations\n",
    "\n",
    "##### Video formats such as MP4, AVI, ...\n",
    "- Typically much smaller files\n",
    "- High levels of compression may lead to artefacts\n",
    "- Not as robust, if you choose unsuitable parameters, the resulting file may not play on some devices or player programs\n",
    "- Use [FFMPEG](https://www.ffmpeg.org)\n",
    "    - Install FFMPEG using `conda install ffmpeg` while your `inf200` environment is active\n",
    "- For a versatile player, see [VLC](https://www.videolan.org/vlc/)\n",
    "        \n",
    "#### Example of simulation with manual movie production\n",
    "\n",
    "- `RandVis` package under `examples` in course repository\n",
    "\n",
    "### DO NOT COMMIT IMAGE OR MOVIE FILES TO YOUR REPOSITORY!!!\n",
    "\n",
    "- Files will take a lot of place\n",
    "- Re-running your simulations will create different files even if the simulations are the same\n",
    "- Files are compressed binary files and cannot be compared/diff'ed meaningfully\n",
    "    - If you commit images over and over, all images will collect in your repo\n",
    "    - Requires a lot of space\n",
    "- **Make sure Git ignores directories with graphics!**\n"
   ]
  },
  {
   "cell_type": "code",
   "execution_count": null,
   "metadata": {},
   "outputs": [],
   "source": []
  }
 ],
 "metadata": {
  "kernelspec": {
   "display_name": "Python 3",
   "language": "python",
   "name": "python3"
  },
  "language_info": {
   "codemirror_mode": {
    "name": "ipython",
    "version": 3
   },
   "file_extension": ".py",
   "mimetype": "text/x-python",
   "name": "python",
   "nbconvert_exporter": "python",
   "pygments_lexer": "ipython3",
   "version": "3.8.2"
  }
 },
 "nbformat": 4,
 "nbformat_minor": 4
}
